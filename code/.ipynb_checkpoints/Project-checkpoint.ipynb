{
 "cells": [
  {
   "cell_type": "markdown",
   "metadata": {},
   "source": [
    "# Low-Rank Matrix Completion"
   ]
  },
  {
   "cell_type": "markdown",
   "metadata": {},
   "source": [
    "# Milad Jalali, Alireza Naderi"
   ]
  },
  {
   "cell_type": "markdown",
   "metadata": {},
   "source": [
    "# Introduction"
   ]
  },
  {
   "cell_type": "code",
   "execution_count": null,
   "metadata": {},
   "outputs": [],
   "source": []
  },
  {
   "cell_type": "markdown",
   "metadata": {},
   "source": [
    "# Basics"
   ]
  },
  {
   "cell_type": "code",
   "execution_count": 3,
   "metadata": {},
   "outputs": [],
   "source": [
    "import argparse\n",
    "import os\n",
    "import pickle\n",
    "import pandas as pd\n",
    "\n",
    "%matplotlib inline\n",
    "import numpy as np\n",
    "import matplotlib\n",
    "import matplotlib.pyplot as plt\n",
    "\n",
    "from numpy.linalg import solve\n",
    "\n",
    "from sklearn.metrics import mean_squared_error\n",
    "from sklearn.linear_model import Lasso\n",
    "from sklearn.model_selection import train_test_split\n",
    "from sklearn.model_selection import KFold\n",
    "from sklearn.metrics import r2_score\n",
    "\n",
    "np.random.seed(1337)\n",
    "\n",
    "def error_plot(ys, yscale='log'):\n",
    "    plt.figure(figsize=(8, 8))\n",
    "    plt.xlabel('Step')\n",
    "    plt.ylabel('Error')\n",
    "    plt.yscale(yscale)\n",
    "    plt.plot(range(len(ys)), ys)"
   ]
  },
  {
   "cell_type": "markdown",
   "metadata": {},
   "source": [
    "# Projection onto the nuclear norm ball"
   ]
  },
  {
   "cell_type": "markdown",
   "metadata": {},
   "source": []
  },
  {
   "cell_type": "code",
   "execution_count": 35,
   "metadata": {},
   "outputs": [],
   "source": [
    "def simplex_projection(a):\n",
    "    #check if the point is already in the simplex\n",
    "    if np.sum(a) <=1 and np.alltrue(a >= 0):\n",
    "        return a\n",
    "    # sort the array in decreasing order then compute cumulative sum of array elements\n",
    "    s = np.sort(a)[::-1]\n",
    "    cumsum_u = np.cumsum(s)\n",
    "    # rho is the number of nonzero elements of the solution\n",
    "    rho = np.nonzero(s * np.arange(1, len(s)+1) > (cumsum_u - 1))[0][-1]\n",
    "    # theta is the lagrangian multiplier\n",
    "    theta = (cumsum_u[rho] - 1) / (rho + 1.0)\n",
    "    # thresholding\n",
    "    return np.maximum(a-theta, 0)"
   ]
  },
  {
   "cell_type": "code",
   "execution_count": 36,
   "metadata": {},
   "outputs": [],
   "source": [
    "def nuclear_projection(A):\n",
    "    U, sigma, V = np.linalg.svd(A, full_matrices=False)\n",
    "    projected_sigma = simplex_projection(sigma)\n",
    "    return U.dot(np.diag(projected_sigma).dot(V))"
   ]
  },
  {
   "cell_type": "markdown",
   "metadata": {},
   "source": [
    "# Objective Function & Gradient"
   ]
  },
  {
   "cell_type": "code",
   "execution_count": 42,
   "metadata": {},
   "outputs": [],
   "source": [
    "def my_function(M, O, X):\n",
    "    return 0.5 * np.linalg.norm(M-np.multiply(X, O), 'fro')**2"
   ]
  },
  {
   "cell_type": "code",
   "execution_count": 16,
   "metadata": {},
   "outputs": [],
   "source": [
    "def my_function_gradient(M, O, X):\n",
    "    return np.multiply(X, O) - M"
   ]
  },
  {
   "cell_type": "code",
   "execution_count": 39,
   "metadata": {},
   "outputs": [
    {
     "data": {
      "text/plain": [
       "array([[ 0.09111245,  0.06562492, -0.04398475,  0.        , -0.        ,\n",
       "         0.        ,  0.        ,  0.01982749,  0.        , -0.10893493],\n",
       "       [ 0.        ,  0.        ,  0.        ,  0.        , -0.        ,\n",
       "         0.        , -0.        , -0.        , -0.01079636, -0.10853341],\n",
       "       [-0.        ,  0.06492498,  0.07495252,  0.        , -0.        ,\n",
       "        -0.        , -0.        , -0.04256069, -0.        ,  0.        ],\n",
       "       [ 0.00179529,  0.        ,  0.05063685,  0.10961533, -0.        ,\n",
       "        -0.        ,  0.        , -0.        ,  0.04423661,  0.01538694],\n",
       "       [-0.        , -0.08051497, -0.00482478, -0.        ,  0.04108722,\n",
       "        -0.        ,  0.        ,  0.00117542,  0.01007501,  0.        ],\n",
       "       [ 0.03810449,  0.        , -0.02515025, -0.01676053, -0.01893948,\n",
       "         0.        ,  0.00132788,  0.        ,  0.        , -0.04947483],\n",
       "       [ 0.        , -0.0256048 , -0.        ,  0.        ,  0.        ,\n",
       "         0.        ,  0.        ,  0.        ,  0.12433737,  0.0085629 ],\n",
       "       [ 0.        , -0.        , -0.        , -0.        ,  0.00117542,\n",
       "         0.        ,  0.00015225,  0.02769777,  0.0090589 , -0.        ],\n",
       "       [ 0.        , -0.        , -0.04446244,  0.        ,  0.01007501,\n",
       "         0.01181213,  0.        ,  0.        ,  0.10060855, -0.02159501],\n",
       "       [-0.10893493, -0.10853341,  0.        ,  0.        ,  0.        ,\n",
       "        -0.04947483,  0.0085629 , -0.02213686, -0.02159501,  0.        ]])"
      ]
     },
     "execution_count": 39,
     "metadata": {},
     "output_type": "execute_result"
    }
   ],
   "source": [
    "n = 10\n",
    "k = 3\n",
    "# we will produce a (n,n) square matrix of rank k named A\n",
    "U = np.random.normal(0, 1, (n, k))\n",
    "U = np.linalg.qr(U)[0]\n",
    "S = np.diag(np.random.uniform(0, 1, k))\n",
    "S /= np.sum(S)\n",
    "A = U.dot(S.dot(U.T))\n",
    "# O represents the observed enteries \n",
    "O = np.random.randint(0,2, (n, n))\n",
    "M = np.multiply(A, O)\n",
    "M"
   ]
  },
  {
   "cell_type": "code",
   "execution_count": 44,
   "metadata": {},
   "outputs": [
    {
     "name": "stdout",
     "output_type": "stream",
     "text": [
      "0.35033104412649557\n",
      "[[ 0.05011695 -0.0295528   0.34230664 -0.          0.         -0.\n",
      "  -0.         -0.01313051 -0.          0.145595  ]\n",
      " [ 0.          0.          0.         -0.          0.         -0.\n",
      "   0.          0.         -0.00456494  0.11789694]\n",
      " [ 0.          0.01127093  0.55519924 -0.          0.          0.\n",
      "   0.          0.05670686  0.          0.        ]\n",
      " [-0.03253095 -0.         -0.11556046 -0.10292634  0.          0.\n",
      "   0.          0.         -0.03114784 -0.02336525]\n",
      " [ 0.          0.11837927  0.31796833  0.          0.11452432  0.\n",
      "  -0.          0.00585428 -0.07320558  0.        ]\n",
      " [-0.04537489 -0.          0.00979282  0.01834278  0.01130786  0.\n",
      "   0.00149463 -0.          0.          0.0475876 ]\n",
      " [-0.          0.0116009   0.          0.         -0.          0.\n",
      "   0.         -0.         -0.10098888 -0.02279505]\n",
      " [ 0.          0.          0.          0.          0.00585428 -0.\n",
      "  -0.00275215 -0.02738021 -0.01191081  0.        ]\n",
      " [-0.          0.         -0.08257784  0.         -0.07320558 -0.00871603\n",
      "   0.         -0.         -0.07499689  0.00598334]\n",
      " [ 0.145595    0.11789694  0.         -0.          0.          0.0475876\n",
      "  -0.02279505  0.02387525  0.00598334  0.        ]]\n"
     ]
    }
   ],
   "source": [
    "X0 = np.random.normal(0,1, (n,n))\n",
    "X0 = nuclear_projection(X0.dot(X0.T))\n",
    "print(my_function(M, O, X0))\n",
    "print(my_function_gradient(M, O, X0))"
   ]
  },
  {
   "cell_type": "markdown",
   "metadata": {},
   "source": [
    "# Power Method"
   ]
  },
  {
   "cell_type": "markdown",
   "metadata": {},
   "source": []
  },
  {
   "cell_type": "code",
   "execution_count": 26,
   "metadata": {},
   "outputs": [],
   "source": [
    "def power_method(A, num_steps=10):\n",
    "    n, m = A.shape\n",
    "    x = np.random.normal(0, 1, n).reshape(-1,1)\n",
    "    x /= np.linalg.norm(x)\n",
    "    y = A.T.dot(x)\n",
    "    y /= np.linalg.norm(y)\n",
    "    for _ in range(num_steps):\n",
    "        x = A.dot(y)\n",
    "        x /= np.linalg.norm(x)\n",
    "        y = A.T.dot(x)\n",
    "        y /= np.linalg.norm(y)\n",
    "    return x, y"
   ]
  },
  {
   "cell_type": "markdown",
   "metadata": {},
   "source": [
    "# Frank Wolfe"
   ]
  },
  {
   "cell_type": "code",
   "execution_count": null,
   "metadata": {},
   "outputs": [],
   "source": [
    "def frank_wolfe(init, steps, oracle):\n",
    "    xs = [init]\n",
    "    \n",
    "    for step in steps:\n",
    "        xs.append(xs[-1] + step*(oracle(xs[-1])-xs[-1]))        \n",
    "    return xs"
   ]
  }
 ],
 "metadata": {
  "kernelspec": {
   "display_name": "Python 3",
   "language": "python",
   "name": "python3"
  },
  "language_info": {
   "codemirror_mode": {
    "name": "ipython",
    "version": 3
   },
   "file_extension": ".py",
   "mimetype": "text/x-python",
   "name": "python",
   "nbconvert_exporter": "python",
   "pygments_lexer": "ipython3",
   "version": "3.8.3"
  }
 },
 "nbformat": 4,
 "nbformat_minor": 4
}
