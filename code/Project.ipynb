{
 "cells": [
  {
   "cell_type": "markdown",
   "metadata": {},
   "source": [
    "# Low-Rank Matrix Completion"
   ]
  },
  {
   "cell_type": "markdown",
   "metadata": {},
   "source": [
    "# Milad Jalali, Alireza Naderi"
   ]
  },
  {
   "cell_type": "markdown",
   "metadata": {},
   "source": [
    "# Introduction"
   ]
  },
  {
   "cell_type": "code",
   "execution_count": null,
   "metadata": {},
   "outputs": [],
   "source": []
  },
  {
   "cell_type": "markdown",
   "metadata": {},
   "source": [
    "# Basics"
   ]
  },
  {
   "cell_type": "code",
   "execution_count": 3,
   "metadata": {},
   "outputs": [],
   "source": [
    "import argparse\n",
    "import os\n",
    "import pickle\n",
    "import pandas as pd\n",
    "\n",
    "%matplotlib inline\n",
    "import numpy as np\n",
    "import matplotlib\n",
    "import matplotlib.pyplot as plt\n",
    "\n",
    "from numpy.linalg import solve\n",
    "\n",
    "from sklearn.metrics import mean_squared_error\n",
    "from sklearn.linear_model import Lasso\n",
    "from sklearn.model_selection import train_test_split\n",
    "from sklearn.model_selection import KFold\n",
    "from sklearn.metrics import r2_score\n",
    "\n",
    "np.random.seed(1337)\n",
    "\n",
    "def error_plot(ys, yscale='log'):\n",
    "    plt.figure(figsize=(8, 8))\n",
    "    plt.xlabel('Step')\n",
    "    plt.ylabel('Error')\n",
    "    plt.yscale(yscale)\n",
    "    plt.plot(range(len(ys)), ys)"
   ]
  },
  {
   "cell_type": "markdown",
   "metadata": {},
   "source": [
    "# Projection onto the nuclear norm ball"
   ]
  },
  {
   "cell_type": "markdown",
   "metadata": {},
   "source": []
  },
  {
   "cell_type": "code",
   "execution_count": 35,
   "metadata": {},
   "outputs": [],
   "source": [
    "def simplex_projection(a):\n",
    "    #check if the point is already in the simplex\n",
    "    if np.sum(a) <=1 and np.alltrue(a >= 0):\n",
    "        return a\n",
    "    # sort the array in decreasing order then compute cumulative sum of array elements\n",
    "    s = np.sort(a)[::-1]\n",
    "    cumsum_u = np.cumsum(s)\n",
    "    # rho is the number of nonzero elements of the solution\n",
    "    rho = np.nonzero(s * np.arange(1, len(s)+1) > (cumsum_u - 1))[0][-1]\n",
    "    # theta is the lagrangian multiplier\n",
    "    theta = (cumsum_u[rho] - 1) / (rho + 1.0)\n",
    "    # thresholding\n",
    "    return np.maximum(a-theta, 0)"
   ]
  },
  {
   "cell_type": "code",
   "execution_count": 36,
   "metadata": {},
   "outputs": [],
   "source": [
    "def nuclear_projection(A):\n",
    "    U, sigma, V = np.linalg.svd(A, full_matrices=False)\n",
    "    projected_sigma = simplex_projection(sigma)\n",
    "    return U.dot(np.diag(projected_sigma).dot(V))"
   ]
  },
  {
   "cell_type": "markdown",
   "metadata": {},
   "source": [
    "# Objective Function & Gradient"
   ]
  },
  {
   "cell_type": "code",
   "execution_count": 42,
   "metadata": {},
   "outputs": [],
   "source": [
    "def my_function(M, O, X):\n",
    "    return 0.5 * np.linalg.norm(M-np.multiply(X, O), 'fro')**2"
   ]
  },
  {
   "cell_type": "code",
   "execution_count": 16,
   "metadata": {},
   "outputs": [],
   "source": [
    "def my_function_gradient(M, O, X):\n",
    "    return np.multiply(X, O) - M"
   ]
  },
  {
   "cell_type": "code",
   "execution_count": 74,
   "metadata": {},
   "outputs": [
    {
     "data": {
      "text/plain": [
       "array([[ 0.00000000e+00,  0.00000000e+00, -0.00000000e+00, ...,\n",
       "         0.00000000e+00,  6.51186594e-04,  0.00000000e+00],\n",
       "       [ 3.24096434e-05,  1.15004929e-03,  3.47836366e-04, ...,\n",
       "         0.00000000e+00, -0.00000000e+00,  1.15675337e-04],\n",
       "       [-0.00000000e+00,  0.00000000e+00,  0.00000000e+00, ...,\n",
       "         0.00000000e+00, -0.00000000e+00, -3.12222822e-04],\n",
       "       ...,\n",
       "       [ 4.49255456e-05,  0.00000000e+00,  1.99735806e-04, ...,\n",
       "         6.81184484e-04, -0.00000000e+00, -0.00000000e+00],\n",
       "       [ 6.51186594e-04, -1.69057641e-04, -0.00000000e+00, ...,\n",
       "        -0.00000000e+00,  6.71810769e-04,  3.23085247e-04],\n",
       "       [ 4.36655458e-04,  1.15675337e-04, -0.00000000e+00, ...,\n",
       "        -0.00000000e+00,  0.00000000e+00,  8.03406194e-04]])"
      ]
     },
     "execution_count": 74,
     "metadata": {},
     "output_type": "execute_result"
    }
   ],
   "source": [
    "n = 1000\n",
    "k = 10\n",
    "# we will produce a (n,n) square matrix of rank k named A\n",
    "U = np.random.normal(0, 1, (n, k))\n",
    "U = np.linalg.qr(U)[0]\n",
    "S = np.diag(np.random.uniform(0, 1, k))\n",
    "S /= np.sum(S)\n",
    "A = U.dot(S.dot(U.T))\n",
    "# O represents the observed enteries \n",
    "O = np.random.randint(0,2, (n, n))\n",
    "M = np.multiply(A, O)\n",
    "M"
   ]
  },
  {
   "cell_type": "code",
   "execution_count": 75,
   "metadata": {},
   "outputs": [
    {
     "name": "stdout",
     "output_type": "stream",
     "text": [
      "0.279724390920091\n",
      "[[ 0.00000000e+00  0.00000000e+00  0.00000000e+00 ...  0.00000000e+00\n",
      "  -4.68899954e-04  0.00000000e+00]\n",
      " [-2.52944954e-05 -1.14739275e-03 -3.51071591e-04 ...  0.00000000e+00\n",
      "   0.00000000e+00 -1.03730531e-04]\n",
      " [ 0.00000000e+00 -0.00000000e+00  0.00000000e+00 ... -0.00000000e+00\n",
      "   0.00000000e+00  2.97676035e-04]\n",
      " ...\n",
      " [ 2.33294475e-04  0.00000000e+00 -3.26241189e-04 ...  3.38068060e-03\n",
      "   0.00000000e+00  0.00000000e+00]\n",
      " [-4.68899954e-04  2.37116947e-04  0.00000000e+00 ...  0.00000000e+00\n",
      "   1.07183563e-03 -1.70651001e-05]\n",
      " [-4.04663086e-04 -1.03730531e-04  0.00000000e+00 ...  0.00000000e+00\n",
      "   0.00000000e+00 -7.49697867e-04]]\n"
     ]
    }
   ],
   "source": [
    "X0 = np.random.normal(0,1, (n,n))\n",
    "X0 = nuclear_projection(X0.dot(X0.T))\n",
    "print(my_function(M, O, X0))\n",
    "print(my_function_gradient(M, O, X0))"
   ]
  },
  {
   "cell_type": "markdown",
   "metadata": {},
   "source": [
    "# Power Method"
   ]
  },
  {
   "cell_type": "markdown",
   "metadata": {},
   "source": []
  },
  {
   "cell_type": "code",
   "execution_count": 26,
   "metadata": {},
   "outputs": [],
   "source": [
    "def power_method(A, num_steps=10):\n",
    "    n, m = A.shape\n",
    "    x = np.random.normal(0, 1, n).reshape(-1,1)\n",
    "    x /= np.linalg.norm(x)\n",
    "    y = A.T.dot(x)\n",
    "    y /= np.linalg.norm(y)\n",
    "    for _ in range(num_steps):\n",
    "        x = A.dot(y)\n",
    "        x /= np.linalg.norm(x)\n",
    "        y = A.T.dot(x)\n",
    "        y /= np.linalg.norm(y)\n",
    "    return x, y"
   ]
  },
  {
   "cell_type": "markdown",
   "metadata": {},
   "source": [
    "# Oracle Computation"
   ]
  },
  {
   "cell_type": "markdown",
   "metadata": {},
   "source": []
  },
  {
   "cell_type": "code",
   "execution_count": 47,
   "metadata": {},
   "outputs": [],
   "source": [
    "def my_oracle(M, O, X):\n",
    "    G = my_function_gradient(M, O, X)\n",
    "    x, y = power_method(-G)\n",
    "    return x.T.dot(y)"
   ]
  },
  {
   "cell_type": "code",
   "execution_count": 49,
   "metadata": {},
   "outputs": [
    {
     "data": {
      "text/plain": [
       "array([[-0.78396866]])"
      ]
     },
     "execution_count": 49,
     "metadata": {},
     "output_type": "execute_result"
    }
   ],
   "source": [
    "my_oracle(M, O, X0)"
   ]
  },
  {
   "cell_type": "markdown",
   "metadata": {},
   "source": [
    "# Frank Wolfe"
   ]
  },
  {
   "cell_type": "markdown",
   "metadata": {},
   "source": []
  },
  {
   "cell_type": "code",
   "execution_count": 50,
   "metadata": {},
   "outputs": [],
   "source": [
    "def frank_wolfe(init, steps, oracle):\n",
    "    xs = [init]\n",
    "    \n",
    "    for step in steps:\n",
    "        xs.append(xs[-1] + step*(oracle(xs[-1])-xs[-1]))        \n",
    "    return xs"
   ]
  },
  {
   "cell_type": "code",
   "execution_count": 76,
   "metadata": {},
   "outputs": [],
   "source": [
    "oracle = lambda X: my_oracle(M, O, X)\n",
    "steps = [2./(k+2.) for k in range(1, 50)]\n",
    "Xs = frank_wolfe(X0, steps, oracle)"
   ]
  },
  {
   "cell_type": "code",
   "execution_count": 77,
   "metadata": {},
   "outputs": [
    {
     "data": {
      "text/plain": [
       "[<matplotlib.lines.Line2D at 0x1f537f52820>]"
      ]
     },
     "execution_count": 77,
     "metadata": {},
     "output_type": "execute_result"
    },
    {
     "data": {
      "image/png": "[encoded data removed]",
      "text/plain": [
       "<Figure size 576x576 with 1 Axes>"
      ]
     },
     "metadata": {
      "needs_background": "light"
     },
     "output_type": "display_data"
    }
   ],
   "source": [
    "function = lambda X: my_function(M, O, X)\n",
    "objective = [function(X) for X in Xs]\n",
    "domain = [np.linalg.norm(X-M, 'fro')**2 for X in Xs]\n",
    "\n",
    "plt.figure(figsize=(8, 8))\n",
    "plt.xlabel('Step')\n",
    "plt.ylabel('Error')\n",
    "# plt.yscale('log')\n",
    "plt.plot(range(len(objective)), objective)"
   ]
  },
  {
   "cell_type": "code",
   "execution_count": 78,
   "metadata": {},
   "outputs": [
    {
     "data": {
      "text/plain": [
       "[<matplotlib.lines.Line2D at 0x1f5373119d0>]"
      ]
     },
     "execution_count": 78,
     "metadata": {},
     "output_type": "execute_result"
    },
    {
     "data": {
      "image/png": "[encoded data removed]",
      "text/plain": [
       "<Figure size 576x576 with 1 Axes>"
      ]
     },
     "metadata": {
      "needs_background": "light"
     },
     "output_type": "display_data"
    }
   ],
   "source": [
    "plt.figure(figsize=(8, 8))\n",
    "plt.xlabel('Step')\n",
    "plt.ylabel('Error')\n",
    "plt.plot(range(len(domain)), domain)"
   ]
  },
  {
   "cell_type": "code",
   "execution_count": 83,
   "metadata": {},
   "outputs": [
    {
     "data": {
      "text/plain": [
       "<matplotlib.legend.Legend at 0x1f5385a6d90>"
      ]
     },
     "execution_count": 83,
     "metadata": {},
     "output_type": "execute_result"
    },
    {
     "data": {
      "image/png": "[encoded data removed]",
      "text/plain": [
       "<Figure size 864x576 with 1 Axes>"
      ]
     },
     "metadata": {
      "needs_background": "light"
     },
     "output_type": "display_data"
    }
   ],
   "source": [
    "_, S_opt, V = np.linalg.svd(M, full_matrices=False)\n",
    "_, S, _ = np.linalg.svd(Xs[-1], full_matrices=False)\n",
    "plt.figure(figsize=(12,8))\n",
    "plt.title('Largest singular values of recovered solution')\n",
    "kwargs = {'linewidth' : 3.5}\n",
    "plt.plot(range(20), np.sort(S)[::-1][:20], 'o-', label='recovered', **kwargs)\n",
    "plt.plot(range(20), np.sort(S_opt)[::-1][:20], 'o-', label='optimal', **kwargs)\n",
    "plt.legend()"
   ]
  },
  {
   "cell_type": "code",
   "execution_count": 81,
   "metadata": {},
   "outputs": [
    {
     "data": {
      "text/plain": [
       "(10,)"
      ]
     },
     "execution_count": 81,
     "metadata": {},
     "output_type": "execute_result"
    }
   ],
   "source": [
    "np.sort(S)[::-1][:10].shape"
   ]
  }
 ],
 "metadata": {
  "kernelspec": {
   "display_name": "Python 3",
   "language": "python",
   "name": "python3"
  },
  "language_info": {
   "codemirror_mode": {
    "name": "ipython",
    "version": 3
   },
   "file_extension": ".py",
   "mimetype": "text/x-python",
   "name": "python",
   "nbconvert_exporter": "python",
   "pygments_lexer": "ipython3",
   "version": "3.8.3"
  }
 },
 "nbformat": 4,
 "nbformat_minor": 4
}
