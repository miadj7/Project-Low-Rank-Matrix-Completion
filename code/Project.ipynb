{
 "cells": [
  {
   "cell_type": "markdown",
   "metadata": {},
   "source": [
    "# Low-Rank Matrix Completion"
   ]
  },
  {
   "cell_type": "markdown",
   "metadata": {},
   "source": [
    "# Milad Jalali, Alireza Naderi"
   ]
  },
  {
   "cell_type": "markdown",
   "metadata": {},
   "source": [
    "# Introduction"
   ]
  },
  {
   "cell_type": "markdown",
   "metadata": {},
   "source": [
    "Consider this optimization problem, which seeks to recover a low-rank approximation to\n",
    "data in the matrix B.\n",
    "$$\n",
    "\\underset{X \\in \\mathbb{R}^{m \\times n}}{\\operatorname{minimize}} \\frac{1}{2}\\|\\Omega \\circ X-B\\|_{F}^{2} \\text { subject to }\\|X\\|_{*} \\leq \\tau\n",
    "$$\n",
    "in the first part of this project we will try to solve this problem using frank-wolfe algorithm.\n",
    "<ul>\n",
    "  <li><b>input:</b>$X_0$, steps = $\\left\\{\\alpha_{t} \\in(0,1), t \\in[T]\\right\\}$</li>\n",
    "  <li>$\\mathbf{v}_{t} \\leftarrow \\arg \\min _{\\mathbf{X} \\in \\mathbb{R}^{m \\times n}}\\left\\{\\mathbf{X}^{\\top} \\nabla f\\left(\\mathbf{X}_{t}\\right)\\right\\}$</li>\n",
    "  <li>$\\mathrm{X}_{t+1} \\leftarrow \\mathrm{X}_{t}+\\alpha_{t}\\left(\\mathrm{v}_{t}-\\mathrm{X}_{t}\\right)$</li>\n",
    "</ul>"
   ]
  },
  {
   "cell_type": "markdown",
   "metadata": {},
   "source": [
    "# Basics"
   ]
  },
  {
   "cell_type": "code",
   "execution_count": 1,
   "metadata": {},
   "outputs": [],
   "source": [
    "import argparse\n",
    "import os\n",
    "import pickle\n",
    "import pandas as pd\n",
    "\n",
    "%matplotlib inline\n",
    "import numpy as np\n",
    "import matplotlib\n",
    "import matplotlib.pyplot as plt\n",
    "\n",
    "from numpy.linalg import solve\n",
    "\n",
    "from sklearn.metrics import mean_squared_error\n",
    "from sklearn.linear_model import Lasso\n",
    "from sklearn.model_selection import train_test_split\n",
    "from sklearn.model_selection import KFold\n",
    "from sklearn.metrics import r2_score\n",
    "\n",
    "np.random.seed(1337)\n",
    "\n",
    "def error_plot(ys, yscale='log'):\n",
    "    plt.figure(figsize=(8, 8))\n",
    "    plt.xlabel('Step')\n",
    "    plt.ylabel('Error')\n",
    "    plt.yscale(yscale)\n",
    "    plt.plot(range(len(ys)), ys)"
   ]
  },
  {
   "cell_type": "markdown",
   "metadata": {},
   "source": [
    "# Projection onto the nuclear norm ball"
   ]
  },
  {
   "cell_type": "markdown",
   "metadata": {},
   "source": [
    "we define the unit ball of nuclear norm in the space of $m \\times n$ matrices by:\n",
    "$$\n",
    "B_{*}^{m \\times n}=\\left\\{A \\in \\mathbb{R}^{m \\times n} \\mid\\|A\\|_{*} \\leq 1\\right\\}\n",
    "$$\n",
    "we want to project matrix $A$ onto this unit ball. since the frobenius distance is rotational invariant we only need to do svd and project the singular value vector onto the unit simplex. we can write the projection of a vector $a$ onto the unit simplex as the following convex optimization problem.\n",
    "\n",
    "$$\n",
    "\\underset{x \\in \\mathbb{R}^{n}}{\\operatorname{minimize}} \\frac{1}{2}\\|x-a\\|_{2}^{2} \\text { subject to }\\|x\\|_{1} \\leq 1\n",
    "$$\n",
    "\n",
    "using kkt on this optimization problem we find the following algorithm for the projection onto simplex."
   ]
  },
  {
   "cell_type": "code",
   "execution_count": 2,
   "metadata": {},
   "outputs": [],
   "source": [
    "def simplex_projection(a):\n",
    "    #check if the point is already in the simplex\n",
    "    if np.sum(a) <=1 and np.alltrue(a >= 0):\n",
    "        return a\n",
    "    # sort the array in decreasing order then compute cumulative sum of array elements\n",
    "    s = np.sort(a)[::-1]\n",
    "    cumsum_u = np.cumsum(s)\n",
    "    # rho is the number of nonzero elements of the solution\n",
    "    rho = np.nonzero(s * np.arange(1, len(s)+1) > (cumsum_u - 1))[0][-1]\n",
    "    # theta is the lagrangian multiplier\n",
    "    theta = (cumsum_u[rho] - 1) / (rho + 1.0)\n",
    "    # thresholding\n",
    "    return np.maximum(a-theta, 0)"
   ]
  },
  {
   "cell_type": "code",
   "execution_count": 3,
   "metadata": {},
   "outputs": [],
   "source": [
    "def nuclear_projection(A):\n",
    "    U, sigma, V = np.linalg.svd(A, full_matrices=False)\n",
    "    projected_sigma = simplex_projection(sigma)\n",
    "    return U.dot(np.diag(projected_sigma).dot(V))"
   ]
  },
  {
   "cell_type": "markdown",
   "metadata": {},
   "source": [
    "# Objective Function & Gradient"
   ]
  },
  {
   "cell_type": "code",
   "execution_count": 4,
   "metadata": {},
   "outputs": [],
   "source": [
    "def my_function(M, O, X):\n",
    "    return 0.5 * np.linalg.norm(M-np.multiply(X, O), 'fro')**2"
   ]
  },
  {
   "cell_type": "code",
   "execution_count": 5,
   "metadata": {},
   "outputs": [],
   "source": [
    "def my_function_gradient(M, O, X):\n",
    "    return np.multiply(X, O) - M"
   ]
  },
  {
   "cell_type": "markdown",
   "metadata": {},
   "source": [
    "# Data Generation"
   ]
  },
  {
   "cell_type": "code",
   "execution_count": 22,
   "metadata": {},
   "outputs": [],
   "source": [
    "m = 5000\n",
    "n = 5000\n",
    "k = 10\n",
    "# we will produce a (m,n) matrix of rank k named A\n",
    "U = np.random.normal(0, 1, (m, k))\n",
    "U = np.linalg.qr(U)[0]\n",
    "V = np.random.normal(0, 1, (n, k))\n",
    "V = np.linalg.qr(V)[0]\n",
    "S = np.diag(np.random.uniform(0, 1, k))\n",
    "S /= np.sum(S)\n",
    "A = U.dot(S.dot(V.T))\n",
    "# O represents the observed enteries \n",
    "O = np.random.randint(0,2, (m, n))\n",
    "M = np.multiply(A, O)"
   ]
  },
  {
   "cell_type": "code",
   "execution_count": 23,
   "metadata": {},
   "outputs": [
    {
     "name": "stdout",
     "output_type": "stream",
     "text": [
      "0.18797893278690808\n",
      "[[ 0.00000000e+00 -6.81480831e-05  0.00000000e+00 ...  1.89965078e-04\n",
      "   0.00000000e+00 -4.22359324e-05]\n",
      " [ 2.35471888e-04  2.79979960e-05 -0.00000000e+00 ...  1.80946248e-04\n",
      "   1.54742442e-04 -1.52468941e-04]\n",
      " [ 2.10242468e-04  0.00000000e+00 -6.63190703e-05 ...  0.00000000e+00\n",
      "   0.00000000e+00 -1.78623557e-04]\n",
      " ...\n",
      " [ 2.09791617e-04  0.00000000e+00 -0.00000000e+00 ...  0.00000000e+00\n",
      "   7.53720431e-06  0.00000000e+00]\n",
      " [-3.35825119e-05  5.29527177e-05 -6.14642781e-05 ...  5.56964095e-05\n",
      "   0.00000000e+00 -2.86035448e-05]\n",
      " [ 0.00000000e+00 -5.10171060e-05  0.00000000e+00 ...  4.52021733e-06\n",
      "   0.00000000e+00  0.00000000e+00]]\n"
     ]
    }
   ],
   "source": [
    "X0 = np.random.normal(0,1, (m,n))\n",
    "X0 = nuclear_projection(X0)"
   ]
  },
  {
   "cell_type": "markdown",
   "metadata": {},
   "source": [
    "# Power Method"
   ]
  },
  {
   "cell_type": "markdown",
   "metadata": {},
   "source": [
    "power method is a computationaly fast method to find the largest singular value of a matrix."
   ]
  },
  {
   "cell_type": "code",
   "execution_count": 8,
   "metadata": {},
   "outputs": [],
   "source": [
    "def power_method(A, num_steps=10):\n",
    "    m, n = A.shape\n",
    "    x = np.random.normal(0, 1, m).reshape(-1,1)\n",
    "    x /= np.linalg.norm(x)\n",
    "    y = A.T.dot(x)\n",
    "    y /= np.linalg.norm(y)\n",
    "    for _ in range(num_steps):\n",
    "        x = A.dot(y)\n",
    "        x /= np.linalg.norm(x)\n",
    "        y = A.T.dot(x)\n",
    "        y /= np.linalg.norm(y)\n",
    "    return x, y"
   ]
  },
  {
   "cell_type": "markdown",
   "metadata": {},
   "source": [
    "# Oracle Computation"
   ]
  },
  {
   "cell_type": "markdown",
   "metadata": {},
   "source": []
  },
  {
   "cell_type": "code",
   "execution_count": 9,
   "metadata": {},
   "outputs": [],
   "source": [
    "def my_oracle(M, O, X):\n",
    "    G = my_function_gradient(M, O, X)\n",
    "    x, y = power_method(-G)\n",
    "    return x.dot(y.T)"
   ]
  },
  {
   "cell_type": "code",
   "execution_count": 24,
   "metadata": {},
   "outputs": [
    {
     "data": {
      "text/plain": [
       "array([[-1.99171681e-04, -3.33765615e-05,  4.63875677e-05, ...,\n",
       "        -1.22885043e-04, -1.47226394e-04,  5.73567443e-05],\n",
       "       [-3.96576867e-04, -6.64570995e-05,  9.23637146e-05, ...,\n",
       "        -2.44680194e-04, -2.93147007e-04,  1.14204780e-04],\n",
       "       [-4.34693937e-04, -7.28446377e-05,  1.01241273e-04, ...,\n",
       "        -2.68197683e-04, -3.21322894e-04,  1.25181597e-04],\n",
       "       ...,\n",
       "       [-3.18629994e-04, -5.33950084e-05,  7.42096986e-05, ...,\n",
       "        -1.96588493e-04, -2.35529191e-04,  9.17579196e-05],\n",
       "       [ 1.24976695e-05,  2.09432000e-06, -2.91073754e-06, ...,\n",
       "         7.71081837e-06,  9.23819491e-06, -3.59903391e-06],\n",
       "       [ 5.49569730e-05,  9.20951603e-06, -1.27996123e-05, ...,\n",
       "         3.39073807e-05,  4.06238322e-05, -1.58263114e-05]])"
      ]
     },
     "execution_count": 24,
     "metadata": {},
     "output_type": "execute_result"
    }
   ],
   "source": [
    "my_oracle(M, O, X0)"
   ]
  },
  {
   "cell_type": "markdown",
   "metadata": {},
   "source": [
    "# Frank Wolfe"
   ]
  },
  {
   "cell_type": "markdown",
   "metadata": {},
   "source": []
  },
  {
   "cell_type": "code",
   "execution_count": 11,
   "metadata": {},
   "outputs": [],
   "source": [
    "def frank_wolfe(init, steps, oracle):\n",
    "    xs = [init]\n",
    "    \n",
    "    for step in steps:\n",
    "        xs.append(xs[-1] + step*(oracle(xs[-1])-xs[-1]))        \n",
    "    return xs"
   ]
  },
  {
   "cell_type": "code",
   "execution_count": 25,
   "metadata": {},
   "outputs": [],
   "source": [
    "import time\n",
    "start_time = time.time()\n",
    "oracle = lambda X: my_oracle(M, O, X)\n",
    "steps = [2./(k+2.) for k in range(1, 40)]\n",
    "Xs = frank_wolfe(X0, steps, oracle)\n",
    "end_time = time.time()\n",
    "fo_runtime = end_time - start_time"
   ]
  },
  {
   "cell_type": "code",
   "execution_count": 26,
   "metadata": {},
   "outputs": [
    {
     "data": {
      "text/plain": [
       "63.79366493225098"
      ]
     },
     "execution_count": 26,
     "metadata": {},
     "output_type": "execute_result"
    }
   ],
   "source": [
    "fo_runtimentime"
   ]
  },
  {
   "cell_type": "code",
   "execution_count": 27,
   "metadata": {},
   "outputs": [
    {
     "data": {
      "text/plain": [
       "[<matplotlib.lines.Line2D at 0x2450f59ee20>]"
      ]
     },
     "execution_count": 27,
     "metadata": {},
     "output_type": "execute_result"
    },
    {
     "data": {
      "image/png": "[encoded data removed]",
      "text/plain": [
       "<Figure size 576x576 with 1 Axes>"
      ]
     },
     "metadata": {
      "needs_background": "light"
     },
     "output_type": "display_data"
    }
   ],
   "source": [
    "function = lambda X: my_function(M, O, X)\n",
    "objective = [function(X) for X in Xs]\n",
    "domain = [np.linalg.norm(X-M, 'fro')**2 for X in Xs]\n",
    "\n",
    "plt.figure(figsize=(8, 8))\n",
    "plt.xlabel('Step')\n",
    "plt.ylabel('Error')\n",
    "# plt.yscale('log')\n",
    "plt.plot(range(10,len(objective)), objective[10:])"
   ]
  },
  {
   "cell_type": "code",
   "execution_count": 28,
   "metadata": {},
   "outputs": [
    {
     "data": {
      "text/plain": [
       "[<matplotlib.lines.Line2D at 0x2450f0bee80>]"
      ]
     },
     "execution_count": 28,
     "metadata": {},
     "output_type": "execute_result"
    },
    {
     "data": {
      "image/png": "[encoded data removed]",
      "text/plain": [
       "<Figure size 576x576 with 1 Axes>"
      ]
     },
     "metadata": {
      "needs_background": "light"
     },
     "output_type": "display_data"
    }
   ],
   "source": [
    "plt.figure(figsize=(8, 8))\n",
    "plt.xlabel('Step')\n",
    "plt.ylabel('Error')\n",
    "plt.plot(range(10,len(domain)), domain[10:])"
   ]
  }
 ],
 "metadata": {
  "kernelspec": {
   "display_name": "Python 3",
   "language": "python",
   "name": "python3"
  },
  "language_info": {
   "codemirror_mode": {
    "name": "ipython",
    "version": 3
   },
   "file_extension": ".py",
   "mimetype": "text/x-python",
   "name": "python",
   "nbconvert_exporter": "python",
   "pygments_lexer": "ipython3",
   "version": "3.8.3"
  }
 },
 "nbformat": 4,
 "nbformat_minor": 4
}
