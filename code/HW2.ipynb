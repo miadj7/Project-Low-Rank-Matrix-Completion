{
 "cells": [
  {
   "cell_type": "markdown",
   "metadata": {},
   "source": [
    "# Frank Wolfe\n",
    "\n",
    "### Milad Jalali, Alireza Naderi, Mohamad amin Mohammadi"
   ]
  },
  {
   "cell_type": "markdown",
   "metadata": {},
   "source": [
    "In this homework we explore frank wolfe algorithm, we saw how this algorithm avoids a projection step in favor of a sometimes cheaper optimization over the constrained set. in this homework we illustrate this idea in solving lasso regression. we use this method to on a famous kaggle dataset namely housing prices. lasso regression can be formulated as following optimization problem. Given a data matrix $A \\in \\mathbb{R}^{n \\times d}$ and a target variable $b \\in \\mathbb{R}^{n}$ where n is the size of dataset and d is the number of features:\n",
    "$$\\operatorname{minimize}_{x}\\frac{1}{2}\\|A x-b\\|_{2}^{2} \\text { st }\\|x\\|_{1} \\leq \\tau$$"
   ]
  },
  {
   "cell_type": "code",
   "execution_count": 513,
   "metadata": {},
   "outputs": [],
   "source": [
    "import argparse\n",
    "import os\n",
    "import pickle\n",
    "import pandas as pd\n",
    "\n",
    "%matplotlib inline\n",
    "import numpy as np\n",
    "import matplotlib\n",
    "import matplotlib.pyplot as plt\n",
    "\n",
    "from numpy.linalg import solve\n",
    "\n",
    "from sklearn.metrics import mean_squared_error\n",
    "from sklearn.linear_model import Lasso\n",
    "from sklearn.model_selection import train_test_split\n",
    "from sklearn.model_selection import KFold\n",
    "from sklearn.metrics import r2_score\n",
    "\n",
    "np.random.seed(1337)\n",
    "\n",
    "def error_plot(ys, yscale='log'):\n",
    "    plt.figure(figsize=(8, 8))\n",
    "    plt.xlabel('Step')\n",
    "    plt.ylabel('Error')\n",
    "    plt.yscale(yscale)\n",
    "    plt.plot(range(len(ys)), ys)"
   ]
  },
  {
   "cell_type": "markdown",
   "metadata": {},
   "source": [
    "## Frank Wolfe & Oracles"
   ]
  },
  {
   "cell_type": "markdown",
   "metadata": {},
   "source": [
    "in frank wolfe algorithm there is one important linear optimization step in every iteration. in step k of the algorithm we have.\n",
    "$$\\overline{x_k} = \\underset{x \\in \\mathcal{C}}{\\operatorname{argmin}} f(x_k) + \\langle {\\nabla f(x_k),x-x_k} \\rangle$$\n",
    "$$x_{k+1} = x_k + \\alpha (\\overline{x_k}-x_k)$$\n",
    "note that:\n",
    "$$\\overline{x_k} = \\underset{x \\in \\mathcal{C}}{\\operatorname{argmin}} \\langle {\\nabla f(x_k),x} \\rangle$$\n",
    "in case of lasso regression $\\mathcal{C} = \\|x\\|_{1} \\leq \\tau$. note that in this case $\\mathcal{C}$ is a simplex and we are optimizing a linear function on it, so we only need to check vertices for the optimal soloution. so in this case we only need to check $[\\pm \\tau e_i]_{i=1}^{n}$. which is done in linear time."
   ]
  },
  {
   "cell_type": "code",
   "execution_count": 273,
   "metadata": {},
   "outputs": [],
   "source": [
    "def oracle_l1(tau, x, grad):\n",
    "    x_star = [[0]]*x.shape[0]\n",
    "    gradient = grad(x)\n",
    "    \n",
    "    if np.all(gradient==0) == True:\n",
    "        return x_star\n",
    "    \n",
    "    else:\n",
    "        argmax = np.argmax(np.abs(gradient))\n",
    "        x_star[argmax] = [tau * np.sign(-gradient[argmax,0])]\n",
    "        return x_star"
   ]
  },
  {
   "cell_type": "code",
   "execution_count": 274,
   "metadata": {},
   "outputs": [],
   "source": [
    "def oracle_l2(tau, x, grad):\n",
    "    x_star = tau*grad(x)/np.linalg.norm(grad(x),2)\n",
    "    return x_star"
   ]
  },
  {
   "cell_type": "code",
   "execution_count": 275,
   "metadata": {},
   "outputs": [],
   "source": [
    "def frank_wolfe(init, steps, oracle):\n",
    "    xs = [init]\n",
    "    \n",
    "    for step in steps:\n",
    "        xs.append(xs[-1] + step*(oracle(xs[-1])-xs[-1]))        \n",
    "    return xs"
   ]
  },
  {
   "cell_type": "code",
   "execution_count": 7,
   "metadata": {},
   "outputs": [],
   "source": [
    "def my_function(A, b, x):\n",
    "    z = A.dot(x)-b\n",
    "    return 0.5*z.T.dot(z)[0][0]\n",
    "\n",
    "def my_function_gradient(A, b, x):\n",
    "    return A.T.dot(A.dot(x)-b)"
   ]
  },
  {
   "cell_type": "markdown",
   "metadata": {},
   "source": [
    "## Least Squares\n",
    "in this part lasso algorithm is implemented using frank-wolfe algorithm"
   ]
  },
  {
   "cell_type": "code",
   "execution_count": 506,
   "metadata": {},
   "outputs": [],
   "source": [
    "class LeastSquares:\n",
    "    \n",
    "    def __init__(self, tau):\n",
    "        self.tau = tau\n",
    "        \n",
    "    def fit(self, X, y):\n",
    "        A = X\n",
    "        b = y\n",
    "        n, d = A.shape\n",
    "        a = np.array([[1]]*n)\n",
    "        A_new=np.append(A, a, axis=1)\n",
    "        \n",
    "        grad = lambda x: my_function_gradient(A_new, b, x)\n",
    "        #oracle = lambda x: my_function_gradient(A_new, b, x)\n",
    "        #oracle = lambda x: oracle_l1(n*self.tau, x, grad)\n",
    "        oracle = lambda x: oracle_l1(self.tau, x, grad)\n",
    "        #oracle = lambda x: oracle_l2(self.tau, x, grad)\n",
    "        x0 = np.random.normal(0, 1, (d+1,1))\n",
    "        steps = [2./(k+2.) for k in range(1, 10000)]\n",
    "\n",
    "        xs = frank_wolfe(x0, steps, oracle)        \n",
    "        self.w = xs[-1]\n",
    "        #self.w = solve(X.T@X, X.T@y)\n",
    "\n",
    "    def predict(self, X):\n",
    "        n, d = X.shape\n",
    "        a = np.array([[1]]*n)\n",
    "        X_new=np.append(X, a, axis=1)\n",
    "        return X_new@self.w\n",
    "    \n",
    "    def score(self, X, y):\n",
    "        return r2_score(y,self.predict(X))"
   ]
  },
  {
   "cell_type": "code",
   "execution_count": 277,
   "metadata": {},
   "outputs": [],
   "source": [
    "url_amazon = \"https://www.amazon.com/dp/%s\"\n",
    "\n",
    "def load_dataset(filename):\n",
    "    with open(os.path.join('.','data',filename), 'rb') as f:\n",
    "        return pickle.load(f)"
   ]
  },
  {
   "cell_type": "code",
   "execution_count": 16,
   "metadata": {},
   "outputs": [],
   "source": [
    "data = load_dataset(\"basisData.pkl\")\n",
    "X = data['X']\n",
    "y = data['y']\n",
    "Xtest = data['Xtest']\n",
    "ytest = data['ytest']\n",
    "\n",
    "# Fit least-squares model\n",
    "model = LeastSquares(1)\n",
    "model.fit(X,y)\n",
    "\n",
    "#utils.test_and_plot(model,X,y,Xtest,ytest,title=\"Least Squares, no bias\",filename=\"least_squares_with_bias.pdf\")"
   ]
  },
  {
   "cell_type": "code",
   "execution_count": 279,
   "metadata": {},
   "outputs": [],
   "source": [
    "def test_and_plot(model,X,y,Xtest=None,ytest=None,title=None):\n",
    "\n",
    "    # Compute training error\n",
    "    trainError = mean_squared_error(model.predict(X), y)\n",
    "    print(\"Training error = %.1f\" % trainError)\n",
    "\n",
    "    # Compute test error\n",
    "    if Xtest is not None and ytest is not None:\n",
    "        testError = mean_squared_error(model.predict(Xtest), ytest)\n",
    "        print(\"Test error     = %.1f\" % testError)\n",
    "\n",
    "    # Plot model\n",
    "    plt.figure()\n",
    "    plt.plot(X,y,'b.')\n",
    "\n",
    "    # Choose points to evaluate the function\n",
    "    Xgrid = np.linspace(np.min(X),np.max(X),1000)[:,None]\n",
    "    ygrid = model.predict(Xgrid)\n",
    "    plt.plot(Xgrid, ygrid, 'g')\n",
    "\n",
    "    if title is not None:\n",
    "        plt.title(title)"
   ]
  },
  {
   "cell_type": "code",
   "execution_count": 280,
   "metadata": {},
   "outputs": [],
   "source": [
    "def test_and_report(model,X,y,Xtest=None,ytest=None):\n",
    "\n",
    "    # Compute training error\n",
    "    trainError = mean_squared_error(model.predict(X), y)\n",
    "\n",
    "    # Compute test error\n",
    "    if Xtest is not None and ytest is not None:        \n",
    "        testError = mean_squared_error(model.predict(Xtest), ytest)\n",
    "\n",
    "    return trainError, testError"
   ]
  },
  {
   "cell_type": "markdown",
   "metadata": {},
   "source": [
    "# Experiment\n",
    "in this part we apply our algorithm to famous kaggle house prices dataset. since we don't have any test dataset we use 80% of training dataset to train our model and use the rest for testing. in order to find the optimal value of the hyperparameter we use 10-fold cross validation on Coefficient of determination ($R^2$). we sample 100 points from a pre determined range of values and plot coresponding values of $R^2$ and chose the optimal value among this sample points. note that we may have to change our range of values a few times  "
   ]
  },
  {
   "cell_type": "code",
   "execution_count": 292,
   "metadata": {},
   "outputs": [],
   "source": [
    "from house_data_clearing import read_data, clear_data\n",
    "\n",
    "train, test = read_data()\n",
    "X, X_sub, y = clear_data(train, test)\n",
    "X = X.values\n",
    "y = np.atleast_2d(y.values).T"
   ]
  },
  {
   "cell_type": "code",
   "execution_count": 333,
   "metadata": {},
   "outputs": [],
   "source": [
    "X_train, X_test, y_train, y_test = train_test_split(X, y, \n",
    "                                                    train_size=0.8, \n",
    "                                                    random_state=42)"
   ]
  },
  {
   "cell_type": "markdown",
   "metadata": {},
   "source": [
    "# Sklearn \n",
    "we use Sklearn implementation of Lasso as our benchmark. note that Sklearn solves a slighlty diffrent but equivalient problem. sklearn solves the following problem:\n",
    "$$\n",
    "\\operatorname{minimize}_{x} \\frac{1}{2} \\|A x-b\\|_{2}^{2}+\\alpha\\|x\\|_{1}\n",
    "$$\n",
    "but we aim to solve this problem:\n",
    "$$\\operatorname{minimize}_{x}\\frac{1}{2}\\|A x-b\\|_{2}^{2} \\text { st }\\|x\\|_{1} \\leq \\tau$$\n",
    "note that the two problem are equivalent and there is one to one correspondence between the values of $\\tau$ and $\\alpha$"
   ]
  },
  {
   "cell_type": "code",
   "execution_count": 346,
   "metadata": {},
   "outputs": [],
   "source": [
    "def Cross_KFold(model, X, y):\n",
    "    scores = []\n",
    "    cv = KFold(n_splits=10, random_state=42, shuffle=False)\n",
    "    for train_index, test_index in cv.split(X_train):\n",
    "        #print(\"Train Index: \", train_index, \"\\n\")\n",
    "        #print(\"Test Index: \", test_index)\n",
    "\n",
    "    #     Xtrain, Xtest, ytrain, ytest = X_train[train_index], X_train[test_index], y_train[train_index], y_train[test_index]\n",
    "    #     model.fit(Xtrain, ytrain)\n",
    "    #     scores.append(model.score(Xtest, ytest))\n",
    "        Xtrain, Xtest, ytrain, ytest = X[train_index], X[test_index], y[train_index], y[test_index]\n",
    "        model.fit(Xtrain, ytrain)\n",
    "        scores.append(model.score(Xtest,ytest)) \n",
    "    return np.mean(scores)"
   ]
  },
  {
   "cell_type": "code",
   "execution_count": 3,
   "metadata": {},
   "outputs": [],
   "source": [
    "import random\n",
    "samples = sorted(random.sample(range(1,5000),10))"
   ]
  },
  {
   "cell_type": "code",
   "execution_count": 4,
   "metadata": {},
   "outputs": [
    {
     "data": {
      "text/plain": [
       "[22, 723, 2491, 2524, 3421, 3685, 4032, 4172, 4318, 4382]"
      ]
     },
     "execution_count": 4,
     "metadata": {},
     "output_type": "execute_result"
    }
   ],
   "source": [
    "samples"
   ]
  },
  {
   "cell_type": "code",
   "execution_count": 516,
   "metadata": {},
   "outputs": [],
   "source": [
    "ext_scores = []\n",
    "samples = sorted(np.random.uniform(0,1,100))\n",
    "for a in samples:\n",
    "    model = Lasso(alpha=a)\n",
    "    score = Cross_KFold(model, X_train, y_train)\n",
    "    ext_scores.append((a, score))"
   ]
  },
  {
   "cell_type": "code",
   "execution_count": 517,
   "metadata": {},
   "outputs": [
    {
     "data": {
      "text/plain": [
       "<matplotlib.axes._subplots.AxesSubplot at 0x176eb93ed30>"
      ]
     },
     "execution_count": 517,
     "metadata": {},
     "output_type": "execute_result"
    },
    {
     "data": {
      "image/png": "[encoded data removed]",
      "text/plain": [
       "<Figure size 432x288 with 1 Axes>"
      ]
     },
     "metadata": {
      "needs_background": "light"
     },
     "output_type": "display_data"
    }
   ],
   "source": [
    "df = pd.DataFrame(ext_scores, columns=['alpha', 'score'])\n",
    "df.plot.line(x='alpha', y='score')"
   ]
  },
  {
   "cell_type": "code",
   "execution_count": 518,
   "metadata": {},
   "outputs": [],
   "source": [
    "ext_scores = []\n",
    "samples = sorted(np.random.uniform(0,1e-1,100))\n",
    "for a in samples:\n",
    "    model = Lasso(alpha=a)\n",
    "    score = Cross_KFold(model, X_train, y_train)\n",
    "    ext_scores.append((a, score))"
   ]
  },
  {
   "cell_type": "code",
   "execution_count": 519,
   "metadata": {},
   "outputs": [
    {
     "data": {
      "text/plain": [
       "<matplotlib.axes._subplots.AxesSubplot at 0x176f3abf2e0>"
      ]
     },
     "execution_count": 519,
     "metadata": {},
     "output_type": "execute_result"
    },
    {
     "data": {
      "image/png": "[encoded data removed]",
      "text/plain": [
       "<Figure size 432x288 with 1 Axes>"
      ]
     },
     "metadata": {
      "needs_background": "light"
     },
     "output_type": "display_data"
    }
   ],
   "source": [
    "df = pd.DataFrame(ext_scores, columns=['alpha', 'score'])\n",
    "df.plot.line(x='alpha', y='score')"
   ]
  },
  {
   "cell_type": "code",
   "execution_count": 531,
   "metadata": {},
   "outputs": [],
   "source": [
    "ext_scores = []\n",
    "samples = sorted(np.random.uniform(0,1e-3,100))\n",
    "for a in samples:\n",
    "    model = Lasso(alpha=a)\n",
    "    score = Cross_KFold(model, X_train, y_train)\n",
    "    ext_scores.append((a, score))"
   ]
  },
  {
   "cell_type": "code",
   "execution_count": 532,
   "metadata": {},
   "outputs": [
    {
     "data": {
      "text/plain": [
       "<matplotlib.axes._subplots.AxesSubplot at 0x176f2abaac0>"
      ]
     },
     "execution_count": 532,
     "metadata": {},
     "output_type": "execute_result"
    },
    {
     "data": {
      "image/png": "[encoded data removed]",
      "text/plain": [
       "<Figure size 432x288 with 1 Axes>"
      ]
     },
     "metadata": {
      "needs_background": "light"
     },
     "output_type": "display_data"
    }
   ],
   "source": [
    "df = pd.DataFrame(ext_scores, columns=['alpha', 'score'])\n",
    "df.plot.line(x='alpha', y='score')"
   ]
  },
  {
   "cell_type": "code",
   "execution_count": 533,
   "metadata": {},
   "outputs": [
    {
     "data": {
      "text/plain": [
       "0.9192727000235505"
      ]
     },
     "execution_count": 533,
     "metadata": {},
     "output_type": "execute_result"
    }
   ],
   "source": [
    "alpha_star = df['alpha'][np.argmax(df['score'])]\n",
    "model = Lasso(alpha_star)\n",
    "model.fit(X_train, y_train)\n",
    "model.score(X_test,y_test)"
   ]
  },
  {
   "cell_type": "code",
   "execution_count": 534,
   "metadata": {},
   "outputs": [
    {
     "data": {
      "text/plain": [
       "0.01254107577485108"
      ]
     },
     "execution_count": 534,
     "metadata": {},
     "output_type": "execute_result"
    }
   ],
   "source": [
    "mean_squared_error(model.predict(X_test), y_test)"
   ]
  },
  {
   "cell_type": "markdown",
   "metadata": {},
   "source": [
    "# Our Implementation"
   ]
  },
  {
   "cell_type": "code",
   "execution_count": 511,
   "metadata": {},
   "outputs": [],
   "source": [
    "scores = []\n",
    "samples = sorted(np.random.uniform(0,1,100))\n",
    "for tau in samples:\n",
    "    model = LeastSquares(tau)\n",
    "    score = Cross_KFold(model, X_train, y_train)\n",
    "    scores.append((tau, score))"
   ]
  },
  {
   "cell_type": "code",
   "execution_count": 512,
   "metadata": {},
   "outputs": [
    {
     "data": {
      "text/plain": [
       "<matplotlib.axes._subplots.AxesSubplot at 0x176f1a948b0>"
      ]
     },
     "execution_count": 512,
     "metadata": {},
     "output_type": "execute_result"
    },
    {
     "data": {
      "image/png": "[encoded data removed]",
      "text/plain": [
       "<Figure size 432x288 with 1 Axes>"
      ]
     },
     "metadata": {
      "needs_background": "light"
     },
     "output_type": "display_data"
    }
   ],
   "source": [
    "df = pd.DataFrame(scores, columns=['tau', 'score'])\n",
    "df.plot.line(x='tau', y='score')"
   ]
  },
  {
   "cell_type": "code",
   "execution_count": 524,
   "metadata": {},
   "outputs": [],
   "source": [
    "scores = []\n",
    "samples = sorted(np.random.uniform(0.005,.05,10))\n",
    "for tau in samples:\n",
    "    model = LeastSquares(tau)\n",
    "    score = Cross_KFold(model, X_train, y_train)\n",
    "    scores.append((tau, score))"
   ]
  },
  {
   "cell_type": "code",
   "execution_count": 527,
   "metadata": {},
   "outputs": [
    {
     "data": {
      "text/plain": [
       "<matplotlib.axes._subplots.AxesSubplot at 0x176f1a86a00>"
      ]
     },
     "execution_count": 527,
     "metadata": {},
     "output_type": "execute_result"
    },
    {
     "data": {
      "image/png": "[encoded data removed]",
      "text/plain": [
       "<Figure size 432x288 with 1 Axes>"
      ]
     },
     "metadata": {
      "needs_background": "light"
     },
     "output_type": "display_data"
    }
   ],
   "source": [
    "df = pd.DataFrame(scores, columns=['tau', 'score'])\n",
    "df.plot.line(x='tau', y='score')"
   ]
  },
  {
   "cell_type": "code",
   "execution_count": 528,
   "metadata": {},
   "outputs": [
    {
     "data": {
      "text/plain": [
       "0.8010142212540888"
      ]
     },
     "execution_count": 528,
     "metadata": {},
     "output_type": "execute_result"
    }
   ],
   "source": [
    "tau_star = df['tau'][np.argmax(df['score'])]\n",
    "model = LeastSquares(tau_star)\n",
    "model.fit(X_train, y_train)\n",
    "model.score(X_test,y_test)"
   ]
  },
  {
   "cell_type": "code",
   "execution_count": 529,
   "metadata": {},
   "outputs": [
    {
     "data": {
      "text/plain": [
       "0.030912661888831103"
      ]
     },
     "execution_count": 529,
     "metadata": {},
     "output_type": "execute_result"
    }
   ],
   "source": [
    "mean_squared_error(model.predict(X_test), y_test)"
   ]
  }
 ],
 "metadata": {
  "kernelspec": {
   "display_name": "Python 3",
   "language": "python",
   "name": "python3"
  },
  "language_info": {
   "codemirror_mode": {
    "name": "ipython",
    "version": 3
   },
   "file_extension": ".py",
   "mimetype": "text/x-python",
   "name": "python",
   "nbconvert_exporter": "python",
   "pygments_lexer": "ipython3",
   "version": "3.8.3"
  }
 },
 "nbformat": 4,
 "nbformat_minor": 4
}
